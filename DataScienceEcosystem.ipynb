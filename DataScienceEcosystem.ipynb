{
 "cells": [
  {
   "cell_type": "markdown",
   "id": "be6a0bf3-f234-45fe-8c63-51a6845c2a89",
   "metadata": {},
   "source": [
    "# Data Science Tools and Ecosystem"
   ]
  },
  {
   "cell_type": "markdown",
   "id": "a1713aa0-5be3-4dae-87da-7e85ba51f891",
   "metadata": {},
   "source": [
    "In this notebook, Data Science Tools and Ecosystem are summarized."
   ]
  },
  {
   "cell_type": "markdown",
   "id": "9b1bb856-d10c-4084-814c-2b445accf33e",
   "metadata": {
    "tags": []
   },
   "source": [
    "# Objectives:\n",
    "# - List popular languages for Data Science.\n",
    "# - List Data Science libraries.\n",
    "# - List Data Science tools\n",
    "# - Convert minutes to hours using a simple Python expression.\n"
   ]
  },
  {
   "cell_type": "markdown",
   "id": "18aa874f-0b14-436d-881b-ebbd895a4ccc",
   "metadata": {},
   "source": [
    "Some of the popular languages that Data Scientists use are:\n",
    "    <ol>\n",
    "        <li>Python.</li>\\\n",
    "        <li>R.</li>\\\n",
    "        <li>SQL.</li>\\\n",
    "        <li>Java.</li>\\\n",
    "        <li>Julia.</li>\\\n",
    "        <li>Scala.</li>\\\n",
    "        <li>C/C++.</li>\\\n",
    "        <li>JavaScript.</li>\n",
    "    </ol>\n",
    "\n"
   ]
  },
  {
   "cell_type": "markdown",
   "id": "491507ed-076d-428a-81f4-42d1a143a6d2",
   "metadata": {},
   "source": [
    "Some of the commonly used libraries used by Data Scientists include:\n",
    " <ol>\n",
    "        <li>Pandas.</li>\\\n",
    "        <li>Tensor Flow.</li>\\\n",
    "        <li>Numpy.</li>\\\n",
    "        <li>Plotly.</li>\\\n",
    "        <li>Pydot.</li>\\\n",
    "    </ol>"
   ]
  },
  {
   "cell_type": "markdown",
   "id": "3766f446-12c7-4fdc-a2c5-2459ca1fd9f3",
   "metadata": {},
   "source": [
    "| Data Science Tools|\n",
    "| -------------| \n",
    "| KNIME|\n",
    "| WEKA | \n",
    "| APACHE SPARK |\n"
   ]
  },
  {
   "cell_type": "markdown",
   "id": "e352a737-3c89-49ab-bbe9-777700180c01",
   "metadata": {
    "tags": []
   },
   "source": [
    "### Below are a few examples of evaluating arithmetic expressions in Python.\n"
   ]
  },
  {
   "cell_type": "code",
   "execution_count": 3,
   "id": "8f5a921f-3e30-4207-b473-5a796654e7f3",
   "metadata": {
    "tags": []
   },
   "outputs": [
    {
     "name": "stdout",
     "output_type": "stream",
     "text": [
      "17\n"
     ]
    }
   ],
   "source": [
    "# This is a simple arithmetic expression to multiply then add integers\n",
    "result = (3 * 4) + 5\n",
    "print(result)\n",
    "\n"
   ]
  },
  {
   "cell_type": "code",
   "execution_count": 4,
   "id": "5e105827-dc17-4fad-bc9c-46406359e11f",
   "metadata": {
    "tags": []
   },
   "outputs": [
    {
     "name": "stdout",
     "output_type": "stream",
     "text": [
      "3.3333333333333335\n"
     ]
    }
   ],
   "source": [
    "# This will convert 200 minutes to hours by dividing by 60.\n",
    "minutes = 200\n",
    "hours = minutes / 60\n",
    "print(hours)"
   ]
  },
  {
   "cell_type": "markdown",
   "id": "43ecf9f2-c7f5-4af6-ad14-c751cf92e18a",
   "metadata": {},
   "source": [
    "## Author\n",
    "Rob Chaboyer"
   ]
  }
 ],
 "metadata": {
  "kernelspec": {
   "display_name": "Python",
   "language": "python",
   "name": "conda-env-python-py"
  },
  "language_info": {
   "codemirror_mode": {
    "name": "ipython",
    "version": 3
   },
   "file_extension": ".py",
   "mimetype": "text/x-python",
   "name": "python",
   "nbconvert_exporter": "python",
   "pygments_lexer": "ipython3",
   "version": "3.7.12"
  }
 },
 "nbformat": 4,
 "nbformat_minor": 5
}
